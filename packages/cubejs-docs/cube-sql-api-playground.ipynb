{
 "cells": [
  {
   "cell_type": "code",
   "execution_count": null,
   "metadata": {},
   "outputs": [],
   "source": [
    "from dotenv import load_dotenv\n",
    "import pandas\n",
    "import os\n",
    "import psycopg2 as ps\n",
    "import requests\n",
    "import json\n",
    "import pandas as pd\n",
    "import urllib3\n",
    "pd.set_option('display.max_columns', None)\n",
    "load_dotenv()\n",
    "\n",
    "print(os.environ[\"DOCS_CUBE_DB_HOST\"])\n",
    "print(os.environ[\"DOCS_CUBE_DB_PORT\"])\n",
    "conn = ps.connect(\n",
    "    host=os.environ[\"DOCS_CUBE_DB_HOST\"],\n",
    "    port=os.environ[\"DOCS_CUBE_DB_PORT\"],\n",
    "    dbname=os.environ[\"DOCS_CUBE_DB_NAME\"],\n",
    "    user=os.environ[\"DOCS_CUBE_DB_USER\"],\n",
    "    password=os.environ[\"DOCS_CUBE_DB_PASS\"])\n",
    "\n",
    "\n",
    "def cubesql(query):\n",
    "    return pandas.read_sql(query, conn)\n",
    "\n",
    "\n",
    "print(\" successfully connected\")\n"
   ]
  },
  {
   "cell_type": "code",
   "execution_count": null,
   "metadata": {},
   "outputs": [],
   "source": [
    "query = \"\"\"\n",
    "select * from activities limit 10\n",
    "\"\"\"\n",
    "response = cubesql(query)\n",
    "df = pd.DataFrame(response)\n",
    "df\n"
   ]
  }
 ],
 "metadata": {
  "kernelspec": {
   "display_name": "Python 3",
   "language": "python",
   "name": "python3"
  },
  "language_info": {
   "codemirror_mode": {
    "name": "ipython",
    "version": 3
   },
   "file_extension": ".py",
   "mimetype": "text/x-python",
   "name": "python",
   "nbconvert_exporter": "python",
   "pygments_lexer": "ipython3",
   "version": "3.11.0"
  },
  "orig_nbformat": 4
 },
 "nbformat": 4,
 "nbformat_minor": 2
}
