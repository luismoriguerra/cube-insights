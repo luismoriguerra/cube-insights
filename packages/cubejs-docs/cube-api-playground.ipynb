{
 "cells": [
  {
   "cell_type": "code",
   "execution_count": null,
   "metadata": {},
   "outputs": [],
   "source": [
    "from dotenv import load_dotenv\n",
    "import pandas\n",
    "import os\n",
    "import psycopg2 as ps\n",
    "import requests\n",
    "import json\n",
    "import pandas as pd\n",
    "import urllib3\n",
    "\n",
    "load_dotenv()\n",
    "\n",
    "\n",
    "def getPlaygroundUrl(query):\n",
    "    params = {\n",
    "        \"query\": json.dumps(query)\n",
    "    }\n",
    "    url = os.environ[\"DOC_CUBE_API_PLAYGROUND_LOCAL\"]\n",
    "\n",
    "    return url + '?' + urllib3.request.urlencode(params)\n",
    "\n",
    "\n",
    "def cubeapi(query):\n",
    "    params = {\n",
    "        \"query\": json.dumps(query)\n",
    "    }\n",
    "    playUrl = getPlaygroundUrl(query)\n",
    "    print(\"###### PLAYGROUND ##########\")\n",
    "    print(playUrl)\n",
    "    print(\"################################\")\n",
    "    url = os.environ[\"CUBE_REST_API_LOCAL\"]\n",
    "    headers = {\n",
    "        'Content-Type': 'application/json',\n",
    "        'Authorization': os.environ[\"CUBE_REST_API_TOKEN_DEV\"]\n",
    "\n",
    "    }\n",
    "    response = requests.get(url, headers=headers, params=params)\n",
    "\n",
    "    data = response.json()\n",
    "\n",
    "    if 'error' in data:\n",
    "        raise Exception(data['error'])\n",
    "\n",
    "    return data\n",
    "\n",
    "\n",
    "print(\" successfully connected\")\n"
   ]
  }
 ],
 "metadata": {
  "language_info": {
   "name": "python"
  },
  "orig_nbformat": 4
 },
 "nbformat": 4,
 "nbformat_minor": 2
}
